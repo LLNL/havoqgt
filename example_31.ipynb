{
 "cells": [
  {
   "cell_type": "code",
   "execution_count": 1,
   "id": "f7d37256-8dce-48a0-9f1f-671c9b625220",
   "metadata": {},
   "outputs": [],
   "source": [
    "import inspect\n",
    "import os\n",
    "import sys\n",
    "from importlib import reload\n",
    "from platform import python_version"
   ]
  },
  {
   "cell_type": "code",
   "execution_count": 2,
   "id": "a555e26e-74c3-4d8c-b9b4-171112b1cf3f",
   "metadata": {},
   "outputs": [
    {
     "name": "stdout",
     "output_type": "stream",
     "text": [
      "3.9.6\n"
     ]
    },
    {
     "data": {
      "text/plain": [
       "'/srv/conda/envs/notebook/lib/python3.9/os.py'"
      ]
     },
     "execution_count": 2,
     "metadata": {},
     "output_type": "execute_result"
    }
   ],
   "source": [
    "print(python_version()) # 3.8.8 or later is required\n",
    "inspect.getfile(os)"
   ]
  },
  {
   "cell_type": "code",
   "execution_count": null,
   "id": "8452e55c-aa35-4798-9058-299ce9b9026a",
   "metadata": {},
   "outputs": [],
   "source": [
    "# display host information # 8GB or more pysical memory required\n",
    "!ls -laht ~\n",
    "!pwd\n",
    "!du -s -h ~\n",
    "#!df -h\n",
    "#!lscpu\n",
    "!free -h\n",
    "!g++-8 --version"
   ]
  },
  {
   "cell_type": "code",
   "execution_count": null,
   "id": "c0cd51d9-28d1-4acb-a022-64dfc6d24b8b",
   "metadata": {},
   "outputs": [],
   "source": [
    "# clippy setup \n",
    "#!ls ~/clippy/cpp/scripts/build.sh\n",
    "!source ~/clippy/cpp/scripts/build.sh"
   ]
  },
  {
   "cell_type": "code",
   "execution_count": 5,
   "id": "4c72ca14-9178-4a8b-a28a-dcb2edfc87a5",
   "metadata": {},
   "outputs": [],
   "source": [
    "sys.path.append(\"/home/jovyan/clippy/clippy\")"
   ]
  },
  {
   "cell_type": "code",
   "execution_count": 8,
   "id": "1b636b81-bafb-4177-b9cd-e6f224471493",
   "metadata": {},
   "outputs": [
    {
     "name": "stdout",
     "output_type": "stream",
     "text": [
      "\n",
      " ╭────────────────────────────────────╮\n",
      " │ It looks like you want to use HPC. │\n",
      " │ Would you like help with that?     │\n",
      " ╰────────────────────────────────────╯\n",
      "  ╲\n",
      "   ╲\n",
      "    ╭──╮\n",
      "    ⊙ ⊙│╭\n",
      "    ││ ││\n",
      "    │╰─╯│\n",
      "    ╰───╯\n",
      "\n"
     ]
    }
   ],
   "source": [
    "from clippy import Clippy"
   ]
  },
  {
   "cell_type": "code",
   "execution_count": 9,
   "id": "4ad3d1a0-b029-4e4c-8d12-11096428a497",
   "metadata": {},
   "outputs": [],
   "source": [
    "sys.path.append(\"/home/jovyan\")"
   ]
  },
  {
   "cell_type": "code",
   "execution_count": null,
   "id": "e068ea88-9d79-4bad-8a26-c14fe1338b7e",
   "metadata": {},
   "outputs": [],
   "source": [
    "from spokepathpyui import inpututil\n",
    "#inpututil = reload(inpututil)"
   ]
  },
  {
   "cell_type": "code",
   "execution_count": null,
   "id": "53a54a88-c52b-469d-b807-fd9efe1f57c3",
   "metadata": {},
   "outputs": [],
   "source": [
    "from spokepathpyui import inputui\n",
    "#inputui = reload(inputui)"
   ]
  },
  {
   "cell_type": "code",
   "execution_count": null,
   "id": "2235be34-d6d7-42d1-a5e0-9ebdc5a473a5",
   "metadata": {},
   "outputs": [],
   "source": [
    "from spokepathpyui import outputui\n",
    "#outputui = reload(outputui)"
   ]
  },
  {
   "cell_type": "code",
   "execution_count": null,
   "id": "2e615f5f-31d9-41fd-822d-9adef0cd68bc",
   "metadata": {},
   "outputs": [],
   "source": [
    "# large data files\n",
    "data_file_url_list = [\"https://www.ece.ubc.ca/~treza/data/vertex_data\", \"https://www.ece.ubc.ca/~treza/data/edge_list\", \\\n",
    "                      \"https://www.ece.ubc.ca/~treza/data/vertex_data_json\"]\n",
    "# download large data files\n",
    "for file_url in data_file_url_list :\n",
    "    print(file_url)\n",
    "    #!wget --tries=5 --continue {file_url} --directory-prefix ~ # uncomment"
   ]
  },
  {
   "cell_type": "code",
   "execution_count": 16,
   "id": "2fca7710-138e-4f20-a9ae-119ee518479b",
   "metadata": {},
   "outputs": [],
   "source": [
    "edge_list_filename = os.path.expanduser(\"~/edge_list\")\n",
    "vertex_data_filename = os.path.expanduser(\"~/vertex_data\")\n",
    "vertex_data_json_filename = os.path.expanduser(\"~/vertex_data_json\")\n",
    "output_filename = os.path.expanduser(\"~/output\")"
   ]
  },
  {
   "cell_type": "code",
   "execution_count": null,
   "id": "1362594c-006d-4522-b975-0eeffa7440bd",
   "metadata": {},
   "outputs": [],
   "source": [
    "# # # # # #"
   ]
  },
  {
   "cell_type": "code",
   "execution_count": 17,
   "id": "984d9927-3bab-4868-a1c7-721783c08738",
   "metadata": {},
   "outputs": [
    {
     "name": "stdout",
     "output_type": "stream",
     "text": [
      "2267796\n",
      "22\n"
     ]
    }
   ],
   "source": [
    "inpututil.load_data(vertex_data_json_filename)"
   ]
  },
  {
   "cell_type": "code",
   "execution_count": 43,
   "id": "25ff2133-b5e2-4f6f-9bd4-e5ca5ba398c4",
   "metadata": {},
   "outputs": [
    {
     "name": "stdout",
     "output_type": "stream",
     "text": [
      "2267796\n",
      "22\n"
     ]
    },
    {
     "data": {
      "application/vnd.jupyter.widget-view+json": {
       "model_id": "47ac9cf45325430f87b6b692f429efdb",
       "version_major": 2,
       "version_minor": 0
      },
      "text/plain": [
       "HBox(children=(SelectMultiple(description='Source types', options=(('Compound (1967305)', 'Compound'), ('SideE…"
      ]
     },
     "metadata": {},
     "output_type": "display_data"
    },
    {
     "data": {
      "application/vnd.jupyter.widget-view+json": {
       "model_id": "c48b3af99095454eb2230d69aa043fce",
       "version_major": 2,
       "version_minor": 0
      },
      "text/plain": [
       "Label(value='Source vertices')"
      ]
     },
     "metadata": {},
     "output_type": "display_data"
    },
    {
     "data": {
      "application/vnd.jupyter.widget-view+json": {
       "model_id": "cbe999b07f234ff49133989d0337e4c7",
       "version_major": 2,
       "version_minor": 0
      },
      "text/plain": [
       "HBox(children=(Button(description='Search', style=ButtonStyle()), Text(value='', placeholder='Empty'), Label(v…"
      ]
     },
     "metadata": {},
     "output_type": "display_data"
    },
    {
     "data": {
      "application/vnd.jupyter.widget-view+json": {
       "model_id": "2a1e3df37f9843a58860668989785c5d",
       "version_major": 2,
       "version_minor": 0
      },
      "text/plain": [
       "HBox()"
      ]
     },
     "metadata": {},
     "output_type": "display_data"
    },
    {
     "data": {
      "application/vnd.jupyter.widget-view+json": {
       "model_id": "bf5d3b31a8114cec81f145355172ce46",
       "version_major": 2,
       "version_minor": 0
      },
      "text/plain": [
       "HBox(children=(Button(description='Reset', style=ButtonStyle(), tooltip='Tooltip'), Label(value='Selected sour…"
      ]
     },
     "metadata": {},
     "output_type": "display_data"
    },
    {
     "data": {
      "application/vnd.jupyter.widget-view+json": {
       "model_id": "00926bc630e14ab18e2103dc0a405929",
       "version_major": 2,
       "version_minor": 0
      },
      "text/plain": [
       "Label(value='Target vertices')"
      ]
     },
     "metadata": {},
     "output_type": "display_data"
    },
    {
     "data": {
      "application/vnd.jupyter.widget-view+json": {
       "model_id": "28ecac3ae3ae4aa4ae07807be2b681d5",
       "version_major": 2,
       "version_minor": 0
      },
      "text/plain": [
       "HBox(children=(Button(description='Search', style=ButtonStyle()), Text(value='', placeholder='Empty'), Label(v…"
      ]
     },
     "metadata": {},
     "output_type": "display_data"
    },
    {
     "data": {
      "application/vnd.jupyter.widget-view+json": {
       "model_id": "0c8b34963f71431eb324f030d1ae71ef",
       "version_major": 2,
       "version_minor": 0
      },
      "text/plain": [
       "HBox()"
      ]
     },
     "metadata": {},
     "output_type": "display_data"
    },
    {
     "data": {
      "application/vnd.jupyter.widget-view+json": {
       "model_id": "9b32020ed1d540fbb7bbd8d93e6c7847",
       "version_major": 2,
       "version_minor": 0
      },
      "text/plain": [
       "HBox(children=(Button(description='Reset', style=ButtonStyle(), tooltip='Tooltip'), Label(value='Selected targ…"
      ]
     },
     "metadata": {},
     "output_type": "display_data"
    },
    {
     "data": {
      "application/vnd.jupyter.widget-view+json": {
       "model_id": "00394104d9734b61b9a636b2d793d25f",
       "version_major": 2,
       "version_minor": 0
      },
      "text/plain": [
       "HBox(children=(SelectMultiple(description='Filter by vertex type', options=(('Compound (1967305)', 'Compound')…"
      ]
     },
     "metadata": {},
     "output_type": "display_data"
    }
   ],
   "source": [
    "# input ui\n",
    "inputui.init_inputui()"
   ]
  },
  {
   "cell_type": "code",
   "execution_count": null,
   "id": "89d3dfe6-9294-4084-aaa2-33df9be0029c",
   "metadata": {},
   "outputs": [],
   "source": [
    "inpututil.setup_input_parameters(vertex_data_filename, inputui.vertex_type_a_set, \n",
    "                                 inputui.vertex_type_b_set, inputui.vertex_type_c_set)"
   ]
  },
  {
   "cell_type": "code",
   "execution_count": null,
   "id": "835a3913-4deb-4af7-880b-ebc1052e2e16",
   "metadata": {},
   "outputs": [],
   "source": [
    "# clippy"
   ]
  },
  {
   "cell_type": "code",
   "execution_count": 54,
   "id": "fa9efbb9-13d2-4ea2-bab3-4fd6a1e7e0f6",
   "metadata": {},
   "outputs": [
    {
     "name": "stdout",
     "output_type": "stream",
     "text": [
      "['2268378', '2283541']\n",
      "['1546094233688003844', '8121734289560993151', '11838663228819696432', '13996733750220222916']\n",
      "5\n"
     ]
    }
   ],
   "source": [
    "s_t_vertices_string = list(map(str, inpututil.s_t_vertices))\n",
    "filter_vertex_labels_string = list(map(str, inpututil.filter_vertex_labels))\n",
    "search_depth_string = \"5\"\n",
    "print(s_t_vertices_string)\n",
    "print(filter_vertex_labels_string)\n",
    "print(search_depth_string)"
   ]
  },
  {
   "cell_type": "code",
   "execution_count": 46,
   "id": "5d7c2ff1-1296-4a72-b24c-fa504ec56f22",
   "metadata": {},
   "outputs": [],
   "source": [
    "c = Clippy({\"examples\": \"/home/jovyan/clippy/cpp/build/examples/\"}, cmd_prefix=\"\", loglevel=0)"
   ]
  },
  {
   "cell_type": "code",
   "execution_count": null,
   "id": "8f18b546-d9f4-4c36-bac8-53ac80047b91",
   "metadata": {},
   "outputs": [],
   "source": [
    "output_edge_list = c.examples.st_shortest_path(filenames=[\"/home/jovyan/edge_list\", \"/home/jovyan/vertex_data\", \"/home/jovyan/tmp\"], stvertices=[\"2268378\", \"541\"], searchdepth=\"50\")"
   ]
  },
  {
   "cell_type": "code",
   "execution_count": null,
   "id": "748aad74-62e1-4410-818c-9d2d819c680b",
   "metadata": {},
   "outputs": [],
   "source": [
    "output_edge_list = c.examples.st_shortest_path(filenames=[edge_list_filename, vertex_data_filename, output_filename], stvertices=s_t_vertices_string, filtervertexlabels=filter_vertex_labels_string, searchdepth=search_depth_string)"
   ]
  },
  {
   "cell_type": "code",
   "execution_count": null,
   "id": "61ca108c-4913-4d0c-82b9-ff86ad479115",
   "metadata": {},
   "outputs": [],
   "source": [
    "output_edge_list = c.examples.st_path(filenames=[\"/home/jovyan/edge_list\", \"/home/jovyan/vertex_data\", \"/home/jovyan/tmp\"], stvertices=[\"2268378\", \"2283541\"], filtervertexlabels=[\"1546094233688003844\", \"8121734289560993151\", \"11838663228819696432\", \"13996733750220222916\"], searchdepth=\"5\")"
   ]
  },
  {
   "cell_type": "code",
   "execution_count": 55,
   "id": "1afe1919-c5d8-4826-abf7-1f4c40fee7ed",
   "metadata": {},
   "outputs": [
    {
     "name": "stderr",
     "output_type": "stream",
     "text": [
      "Received stderr: Time: 0.000765086 seconds.\n",
      "\n",
      "Hostname: jupyter-llnl-2dhavoqgt-2d812rocjt\n",
      "Number of available threads on jupyter-llnl-2dhavoqgt-2d812rocjt: 6\n",
      "\n",
      "Building in-memory CSR graph (undirected) ...\n",
      "Reading edge list file ...\n",
      "Size of edge list: 36226384\n",
      "Max vertex: 2329608\n",
      "Sorting edges by source vertex ...\n",
      "Creating CSR row pointers ...\n",
      "Size of vertex list: 2329610\n",
      "Size of vertex degree list: 2329609\n",
      "Sorting neighbors ...\n",
      "Generating edge list ...\n",
      "Size of edge list: 36226384\n",
      "CSR Graph generation completed.\n",
      "Number of vertices: 2329609\n",
      "Number of edges: 36226384\n",
      "Max vertex: 2329608\n",
      "Reading vertex data file ...\n",
      "Size of vertex data list: 2329609\n",
      "Size of edge state list: 36226384, 2\n",
      "Time: 34.138 seconds.\n",
      "\n",
      "Selected veretx data: 11838663228819696432, 13996733750220222916, 1546094233688003844, 8121734289560993151, \n",
      "\n",
      "Eliminating non-path vertices ... \n",
      "2\n",
      "2283541 2268378 \n",
      "Max out degree (log2): 16\n",
      "Iteration: 0, deleted vertex count: 2066367\n",
      "Iteration: 1, deleted vertex count: 88\n",
      "Iteration: 2, deleted vertex count: 5\n",
      "Iteration: 3, deleted vertex count: 0\n",
      "Time: 0.321311 seconds.\n",
      "Size of vertex active list: 2329609\n",
      "Active vertex count: 263149\n",
      "Active edge count: 35806174\n",
      "\n",
      "Searching paths ... \n",
      "Source vertices: 2268378 1, \n",
      "Target vertices: 2283541 1, \n",
      "2268378 301 5 51655\n",
      "Time: 0.272159 seconds.\n",
      "2283541 1421 5 46670\n",
      "Time: 0.215375 seconds.\n",
      "\n",
      "2268378 2 0\n",
      "2268378 2 4\n",
      "2283541 2 4\n",
      "2283541 2 0\n",
      "\n",
      "Reset states ... \n",
      "Source vertices: 2268378 0, \n",
      "Target vertices: 2283541 0, \n",
      "\n",
      "BFS tree intersection ... \n",
      "Edges processed: 18113470 | 18113192\n",
      "Time: 11.2431 seconds.\n",
      "Source vertices: 2268378 1, \n",
      "Target vertices: 2283541 1, \n",
      "Active vertex count: 37383\n",
      "\n",
      "Filter ... \n",
      "Time: 0.0161987 seconds.\n",
      "\n",
      "Eliminate invalid edges from the BFS intersection tree ... \n",
      "Iteration: 0, deleted vertex count: 2599\n",
      "Iteration: 1, deleted vertex count: 1761\n",
      "Iteration: 2, deleted vertex count: 903\n",
      "Iteration: 3, deleted vertex count: 0\n",
      "Time: 0.162267 seconds.\n",
      "\n",
      "Output ... \n",
      "Active vertex count: 11\n",
      "Active edge count: 24\n",
      "Active edge count (output): 24\n",
      "Time: 0.00274767 seconds.\n",
      "\n",
      "\n"
     ]
    }
   ],
   "source": [
    "output_edge_list = c.examples.st_path(filenames=[edge_list_filename, vertex_data_filename, output_filename], stvertices=s_t_vertices_string, filtervertexlabels=filter_vertex_labels_string, searchdepth=search_depth_string)"
   ]
  },
  {
   "cell_type": "code",
   "execution_count": 56,
   "id": "129ceca3-a718-480f-aeca-bf535be6c475",
   "metadata": {},
   "outputs": [
    {
     "data": {
      "text/plain": [
       "['2268335 2282455',\n",
       " '2268335 2283993',\n",
       " '2268378 2283993',\n",
       " '2276338 2283993',\n",
       " '2276338 2293366',\n",
       " '2277129 2325547',\n",
       " '2277129 2325831',\n",
       " '2277129 2327362',\n",
       " '2282455 2268335',\n",
       " '2282455 2325831',\n",
       " '2283541 2293366',\n",
       " '2283993 2268335',\n",
       " '2283993 2268378',\n",
       " '2283993 2276338',\n",
       " '2283993 2325547',\n",
       " '2293366 2276338',\n",
       " '2293366 2283541',\n",
       " '2293366 2327362',\n",
       " '2325547 2277129',\n",
       " '2325547 2283993',\n",
       " '2325831 2277129',\n",
       " '2325831 2282455',\n",
       " '2327362 2277129',\n",
       " '2327362 2293366']"
      ]
     },
     "execution_count": 56,
     "metadata": {},
     "output_type": "execute_result"
    }
   ],
   "source": [
    "output_edge_list"
   ]
  },
  {
   "cell_type": "code",
   "execution_count": 59,
   "id": "11a35e2d-b532-4497-9a07-28495574e8fa",
   "metadata": {},
   "outputs": [
    {
     "data": {
      "application/vnd.jupyter.widget-view+json": {
       "model_id": "cb25fc6c852b4e8da736011586b313d5",
       "version_major": 2,
       "version_minor": 0
      },
      "text/plain": [
       "CytoscapeWidget(cytoscape_layout={'name': 'cola'}, cytoscape_style=[{'selector': 'edge.highlighted', 'css': {'…"
      ]
     },
     "metadata": {},
     "output_type": "display_data"
    },
    {
     "data": {
      "application/vnd.jupyter.widget-view+json": {
       "model_id": "ad2a0cb596294daa8d5fafce843a0fe2",
       "version_major": 2,
       "version_minor": 0
      },
      "text/plain": [
       "Textarea(value='Empty', disabled=True, layout=Layout(align_content='center', height='200px', width='50%'), pla…"
      ]
     },
     "metadata": {},
     "output_type": "display_data"
    }
   ],
   "source": [
    "# output ui\n",
    "#outputui.draw_cytoscape_graph(output_edge_list, [2268378, 541], \"klay\")\n",
    "#outputui.draw_cytoscape_graph(output_edge_list, [2268378, 2283541], \"cola\")\n",
    "outputui.draw_cytoscape_graph(output_edge_list, inpututil.s_t_vertices)"
   ]
  },
  {
   "cell_type": "code",
   "execution_count": null,
   "id": "ffeea90b-03fd-4acf-9159-676fbbee770a",
   "metadata": {},
   "outputs": [],
   "source": [
    "# # # # # #"
   ]
  }
 ],
 "metadata": {
  "kernelspec": {
   "display_name": "Python 3 (ipykernel)",
   "language": "python",
   "name": "python3"
  },
  "language_info": {
   "codemirror_mode": {
    "name": "ipython",
    "version": 3
   },
   "file_extension": ".py",
   "mimetype": "text/x-python",
   "name": "python",
   "nbconvert_exporter": "python",
   "pygments_lexer": "ipython3",
   "version": "3.9.6"
  }
 },
 "nbformat": 4,
 "nbformat_minor": 5
}
